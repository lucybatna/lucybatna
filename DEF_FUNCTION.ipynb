{
 "cells": [
  {
   "cell_type": "raw",
   "id": "ca2859ba-b47f-45e0-9d98-30ebc486b8ea",
   "metadata": {},
   "source": [
    "def weather_cloathing _recomender(temperature, is_raining):\n",
    "if temperature>18:\n",
    "if is_raining:\n",
    "return\"wear light clothes and do not take an umbrella and go to town.\"\n",
    "else:\n",
    "return\"wear light clothes and don't forget sunscreen!\"\n",
    "elif 15<=temperature<=25:\n",
    "if is_raining:\n",
    "return\"wear a light jacket and take an umbrella.\"\n",
    "else:\n",
    "return\"wear a light jacket.\"\n",
    "else:\n",
    "if is_rainning:\n",
    "return\"wear warm clothes, a coat, and take an umbrella.\"\n",
    "else:\n",
    "return\"wear worm clothes and a coat.\"\n",
    "print(weather_clothing_recommender(28,false))\n",
    "print(weather_clothing_recommender(20,true))\n",
    "print(weather_clothing_recommender(5,false))"
   ]
  },
  {
   "cell_type": "code",
   "execution_count": null,
   "id": "81e4d7f3-28ef-44df-a881-51f3a5af8633",
   "metadata": {},
   "outputs": [],
   "source": []
  },
  {
   "cell_type": "code",
   "execution_count": null,
   "id": "ac6c774f-be6a-4237-8e7b-e04c7290752b",
   "metadata": {},
   "outputs": [],
   "source": []
  }
 ],
 "metadata": {
  "kernelspec": {
   "display_name": "Python 3 (ipykernel)",
   "language": "python",
   "name": "python3"
  },
  "language_info": {
   "codemirror_mode": {
    "name": "ipython",
    "version": 3
   },
   "file_extension": ".py",
   "mimetype": "text/x-python",
   "name": "python",
   "nbconvert_exporter": "python",
   "pygments_lexer": "ipython3",
   "version": "3.12.4"
  }
 },
 "nbformat": 4,
 "nbformat_minor": 5
}
